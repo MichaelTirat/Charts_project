{
 "cells": [
  {
   "cell_type": "code",
   "execution_count": 3,
   "metadata": {},
   "outputs": [],
   "source": [
    "import nltk\n",
    "from nltk.corpus import stopwords\n",
    "import pandas as pd"
   ]
  },
  {
   "cell_type": "code",
   "execution_count": 4,
   "metadata": {},
   "outputs": [
    {
     "name": "stderr",
     "output_type": "stream",
     "text": [
      "[nltk_data] Downloading package stopwords to\n",
      "[nltk_data]     C:\\Users\\micha\\AppData\\Roaming\\nltk_data...\n",
      "[nltk_data]   Package stopwords is already up-to-date!\n"
     ]
    },
    {
     "data": {
      "text/plain": [
       "True"
      ]
     },
     "execution_count": 4,
     "metadata": {},
     "output_type": "execute_result"
    }
   ],
   "source": [
    "nltk.download('stopwords')"
   ]
  },
  {
   "cell_type": "code",
   "execution_count": 11,
   "metadata": {},
   "outputs": [
    {
     "data": {
      "text/html": [
       "<div>\n",
       "<style scoped>\n",
       "    .dataframe tbody tr th:only-of-type {\n",
       "        vertical-align: middle;\n",
       "    }\n",
       "\n",
       "    .dataframe tbody tr th {\n",
       "        vertical-align: top;\n",
       "    }\n",
       "\n",
       "    .dataframe thead th {\n",
       "        text-align: right;\n",
       "    }\n",
       "</style>\n",
       "<table border=\"1\" class=\"dataframe\">\n",
       "  <thead>\n",
       "    <tr style=\"text-align: right;\">\n",
       "      <th></th>\n",
       "      <th>english</th>\n",
       "      <th>french</th>\n",
       "      <th>spanish</th>\n",
       "    </tr>\n",
       "  </thead>\n",
       "  <tbody>\n",
       "    <tr>\n",
       "      <th>0</th>\n",
       "      <td>[i, me, my, myself, we, our, ours, ourselves, ...</td>\n",
       "      <td>[au, aux, avec, ce, ces, dans, de, des, du, el...</td>\n",
       "      <td>[de, la, que, el, en, y, a, los, del, se, las,...</td>\n",
       "    </tr>\n",
       "  </tbody>\n",
       "</table>\n",
       "</div>"
      ],
      "text/plain": [
       "                                             english  \\\n",
       "0  [i, me, my, myself, we, our, ours, ourselves, ...   \n",
       "\n",
       "                                              french  \\\n",
       "0  [au, aux, avec, ce, ces, dans, de, des, du, el...   \n",
       "\n",
       "                                             spanish  \n",
       "0  [de, la, que, el, en, y, a, los, del, se, las,...  "
      ]
     },
     "execution_count": 11,
     "metadata": {},
     "output_type": "execute_result"
    }
   ],
   "source": [
    "french = [stopwords.words('french')] \n",
    "english = [stopwords.words('english')]\n",
    "spanish = [stopwords.words('spanish')]\n",
    "\n",
    "df_stop  = pd.DataFrame({'english' : english , 'french': french, 'spanish': spanish})\n",
    "df_stop\n",
    "\n"
   ]
  },
  {
   "cell_type": "code",
   "execution_count": null,
   "metadata": {},
   "outputs": [],
   "source": [
    "final_stop"
   ]
  },
  {
   "cell_type": "code",
   "execution_count": 8,
   "metadata": {},
   "outputs": [
    {
     "data": {
      "text/html": [
       "<div>\n",
       "<style scoped>\n",
       "    .dataframe tbody tr th:only-of-type {\n",
       "        vertical-align: middle;\n",
       "    }\n",
       "\n",
       "    .dataframe tbody tr th {\n",
       "        vertical-align: top;\n",
       "    }\n",
       "\n",
       "    .dataframe thead th {\n",
       "        text-align: right;\n",
       "    }\n",
       "</style>\n",
       "<table border=\"1\" class=\"dataframe\">\n",
       "  <thead>\n",
       "    <tr style=\"text-align: right;\">\n",
       "      <th></th>\n",
       "      <th>track_ids</th>\n",
       "      <th>lyrics</th>\n",
       "      <th>lyrics_words</th>\n",
       "      <th>language</th>\n",
       "    </tr>\n",
       "  </thead>\n",
       "  <tbody>\n",
       "    <tr>\n",
       "      <th>0</th>\n",
       "      <td>0Jh6iWjna1wk5le0Ahn7No</td>\n",
       "      <td>chady hey hey  bientot j irai au ciel rejoindr...</td>\n",
       "      <td>chady hey hey bientot irai ciel rejoindre rimk...</td>\n",
       "      <td>fr</td>\n",
       "    </tr>\n",
       "    <tr>\n",
       "      <th>1</th>\n",
       "      <td>1bwhDrXcAtqePp8mNJ0pTe</td>\n",
       "      <td>okay prepare les valises ma jolie  zeg p on th...</td>\n",
       "      <td>okay prepare les valises jolie zeg the track b...</td>\n",
       "      <td>fr</td>\n",
       "    </tr>\n",
       "  </tbody>\n",
       "</table>\n",
       "</div>"
      ],
      "text/plain": [
       "                track_ids                                             lyrics  \\\n",
       "0  0Jh6iWjna1wk5le0Ahn7No  chady hey hey  bientot j irai au ciel rejoindr...   \n",
       "1  1bwhDrXcAtqePp8mNJ0pTe  okay prepare les valises ma jolie  zeg p on th...   \n",
       "\n",
       "                                        lyrics_words language  \n",
       "0  chady hey hey bientot irai ciel rejoindre rimk...       fr  \n",
       "1  okay prepare les valises jolie zeg the track b...       fr  "
      ]
     },
     "execution_count": 8,
     "metadata": {},
     "output_type": "execute_result"
    }
   ],
   "source": [
    "url = r\"C:\\Users\\micha\\PycharmProjects\\POO_spotify_api\\lyrics_4037.csv\"\n",
    "df = pd.read_csv(url)\n",
    "df.head(2)"
   ]
  },
  {
   "cell_type": "code",
   "execution_count": 11,
   "metadata": {},
   "outputs": [
    {
     "data": {
      "text/plain": [
       "'okay prepare valises jolie zeg track peut'"
      ]
     },
     "execution_count": 11,
     "metadata": {},
     "output_type": "execute_result"
    }
   ],
   "source": [
    "def clean_words(x):\n",
    "    final_stop = stopwords.words('english') + stopwords.words('french') + stopwords.words('spanish')\n",
    "    list_words = x.split()\n",
    "    clean_list = [word.strip() for word in list_words]\n",
    "    # return clean_list\n",
    "\n",
    "    result = []\n",
    "    for words in clean_list:\n",
    "        if len(words) > 2 and words not in final_stop:\n",
    "            result.append(words)\n",
    "    return ' '.join(result)\n",
    "\n"
   ]
  },
  {
   "cell_type": "code",
   "execution_count": 12,
   "metadata": {},
   "outputs": [
    {
     "data": {
      "text/html": [
       "<div>\n",
       "<style scoped>\n",
       "    .dataframe tbody tr th:only-of-type {\n",
       "        vertical-align: middle;\n",
       "    }\n",
       "\n",
       "    .dataframe tbody tr th {\n",
       "        vertical-align: top;\n",
       "    }\n",
       "\n",
       "    .dataframe thead th {\n",
       "        text-align: right;\n",
       "    }\n",
       "</style>\n",
       "<table border=\"1\" class=\"dataframe\">\n",
       "  <thead>\n",
       "    <tr style=\"text-align: right;\">\n",
       "      <th></th>\n",
       "      <th>track_ids</th>\n",
       "      <th>lyrics</th>\n",
       "      <th>lyrics_words</th>\n",
       "      <th>language</th>\n",
       "      <th>clean</th>\n",
       "    </tr>\n",
       "  </thead>\n",
       "  <tbody>\n",
       "    <tr>\n",
       "      <th>0</th>\n",
       "      <td>0Jh6iWjna1wk5le0Ahn7No</td>\n",
       "      <td>chady hey hey  bientot j irai au ciel rejoindr...</td>\n",
       "      <td>chady hey hey bientot irai ciel rejoindre rimk...</td>\n",
       "      <td>fr</td>\n",
       "      <td>chady hey hey bientot irai ciel rejoindre rimk...</td>\n",
       "    </tr>\n",
       "    <tr>\n",
       "      <th>1</th>\n",
       "      <td>1bwhDrXcAtqePp8mNJ0pTe</td>\n",
       "      <td>okay prepare les valises ma jolie  zeg p on th...</td>\n",
       "      <td>okay prepare les valises jolie zeg the track b...</td>\n",
       "      <td>fr</td>\n",
       "      <td>okay prepare valises jolie zeg track babe tout...</td>\n",
       "    </tr>\n",
       "    <tr>\n",
       "      <th>2</th>\n",
       "      <td>0VjIjW4GlUZAMYd2vXMi3b</td>\n",
       "      <td>yeah  i ve been tryna call i ve been on my own...</td>\n",
       "      <td>yeah been tryna call been own for long enough ...</td>\n",
       "      <td>en</td>\n",
       "      <td>yeah tryna call long enough maybe show love ma...</td>\n",
       "    </tr>\n",
       "    <tr>\n",
       "      <th>3</th>\n",
       "      <td>717QGTmZdkemDaCo1vQHG0</td>\n",
       "      <td>oui ma gatee rs4 gris nardo bien sur qu ils m ...</td>\n",
       "      <td>oui gatee rs4 gris nardo bien sur ils ont rate...</td>\n",
       "      <td>fr</td>\n",
       "      <td>oui gatee rs4 gris nardo bien rate gros bien s...</td>\n",
       "    </tr>\n",
       "    <tr>\n",
       "      <th>4</th>\n",
       "      <td>2ewjMyCbNv2X1dB2qIDCwD</td>\n",
       "      <td>double x on the track bitch  le monde est a no...</td>\n",
       "      <td>double the track bitch monde est nous monde es...</td>\n",
       "      <td>fr</td>\n",
       "      <td>double track bitch monde monde peut-etre sans ...</td>\n",
       "    </tr>\n",
       "    <tr>\n",
       "      <th>...</th>\n",
       "      <td>...</td>\n",
       "      <td>...</td>\n",
       "      <td>...</td>\n",
       "      <td>...</td>\n",
       "      <td>...</td>\n",
       "    </tr>\n",
       "    <tr>\n",
       "      <th>3672</th>\n",
       "      <td>4xuuEQsFZhxZRn6ZdVOn2k</td>\n",
       "      <td>je m suis coupe du monde j ai change de numero...</td>\n",
       "      <td>suis coupe monde change numero chez moi trahir...</td>\n",
       "      <td>fr</td>\n",
       "      <td>coupe monde change numero chez trahir honte tr...</td>\n",
       "    </tr>\n",
       "    <tr>\n",
       "      <th>3673</th>\n",
       "      <td>2HSmyk2qMN8WQjuGhaQgCk</td>\n",
       "      <td>i love you i love you i love you until i until...</td>\n",
       "      <td>love you love you love you until until love yo...</td>\n",
       "      <td>en</td>\n",
       "      <td>love love love love love love find words know ...</td>\n",
       "    </tr>\n",
       "    <tr>\n",
       "      <th>3674</th>\n",
       "      <td>3n53rWmL4F9WRWk66cjxyg</td>\n",
       "      <td>soulayman beats  la vie de reve je n y crois p...</td>\n",
       "      <td>soulayman beats vie reve crois pas comme chatt...</td>\n",
       "      <td>fr</td>\n",
       "      <td>soulayman beats vie reve crois comme chatte re...</td>\n",
       "    </tr>\n",
       "    <tr>\n",
       "      <th>3675</th>\n",
       "      <td>5nLe4rNMf6B5v9sJ6gGCQO</td>\n",
       "      <td>s/o le flem allo cee c est comment t as deja q...</td>\n",
       "      <td>s/o flem allo cee est comment deja quitte lond...</td>\n",
       "      <td>en</td>\n",
       "      <td>s/o flem allo cee comment deja quitte london f...</td>\n",
       "    </tr>\n",
       "    <tr>\n",
       "      <th>3676</th>\n",
       "      <td>4gDcrTB7sm4gDJZ0hRjRtN</td>\n",
       "      <td>times that i ve seen you lose your way you re ...</td>\n",
       "      <td>times that seen you lose your way you not cont...</td>\n",
       "      <td>en</td>\n",
       "      <td>times seen lose way control told keep safe hol...</td>\n",
       "    </tr>\n",
       "  </tbody>\n",
       "</table>\n",
       "<p>3677 rows × 5 columns</p>\n",
       "</div>"
      ],
      "text/plain": [
       "                   track_ids  \\\n",
       "0     0Jh6iWjna1wk5le0Ahn7No   \n",
       "1     1bwhDrXcAtqePp8mNJ0pTe   \n",
       "2     0VjIjW4GlUZAMYd2vXMi3b   \n",
       "3     717QGTmZdkemDaCo1vQHG0   \n",
       "4     2ewjMyCbNv2X1dB2qIDCwD   \n",
       "...                      ...   \n",
       "3672  4xuuEQsFZhxZRn6ZdVOn2k   \n",
       "3673  2HSmyk2qMN8WQjuGhaQgCk   \n",
       "3674  3n53rWmL4F9WRWk66cjxyg   \n",
       "3675  5nLe4rNMf6B5v9sJ6gGCQO   \n",
       "3676  4gDcrTB7sm4gDJZ0hRjRtN   \n",
       "\n",
       "                                                 lyrics  \\\n",
       "0     chady hey hey  bientot j irai au ciel rejoindr...   \n",
       "1     okay prepare les valises ma jolie  zeg p on th...   \n",
       "2     yeah  i ve been tryna call i ve been on my own...   \n",
       "3     oui ma gatee rs4 gris nardo bien sur qu ils m ...   \n",
       "4     double x on the track bitch  le monde est a no...   \n",
       "...                                                 ...   \n",
       "3672  je m suis coupe du monde j ai change de numero...   \n",
       "3673  i love you i love you i love you until i until...   \n",
       "3674  soulayman beats  la vie de reve je n y crois p...   \n",
       "3675  s/o le flem allo cee c est comment t as deja q...   \n",
       "3676  times that i ve seen you lose your way you re ...   \n",
       "\n",
       "                                           lyrics_words language  \\\n",
       "0     chady hey hey bientot irai ciel rejoindre rimk...       fr   \n",
       "1     okay prepare les valises jolie zeg the track b...       fr   \n",
       "2     yeah been tryna call been own for long enough ...       en   \n",
       "3     oui gatee rs4 gris nardo bien sur ils ont rate...       fr   \n",
       "4     double the track bitch monde est nous monde es...       fr   \n",
       "...                                                 ...      ...   \n",
       "3672  suis coupe monde change numero chez moi trahir...       fr   \n",
       "3673  love you love you love you until until love yo...       en   \n",
       "3674  soulayman beats vie reve crois pas comme chatt...       fr   \n",
       "3675  s/o flem allo cee est comment deja quitte lond...       en   \n",
       "3676  times that seen you lose your way you not cont...       en   \n",
       "\n",
       "                                                  clean  \n",
       "0     chady hey hey bientot irai ciel rejoindre rimk...  \n",
       "1     okay prepare valises jolie zeg track babe tout...  \n",
       "2     yeah tryna call long enough maybe show love ma...  \n",
       "3     oui gatee rs4 gris nardo bien rate gros bien s...  \n",
       "4     double track bitch monde monde peut-etre sans ...  \n",
       "...                                                 ...  \n",
       "3672  coupe monde change numero chez trahir honte tr...  \n",
       "3673  love love love love love love find words know ...  \n",
       "3674  soulayman beats vie reve crois comme chatte re...  \n",
       "3675  s/o flem allo cee comment deja quitte london f...  \n",
       "3676  times seen lose way control told keep safe hol...  \n",
       "\n",
       "[3677 rows x 5 columns]"
      ]
     },
     "execution_count": 12,
     "metadata": {},
     "output_type": "execute_result"
    }
   ],
   "source": [
    "df['clean']  = df['lyrics'].apply(clean_words)\n",
    "df"
   ]
  },
  {
   "cell_type": "code",
   "execution_count": null,
   "metadata": {},
   "outputs": [],
   "source": []
  }
 ],
 "metadata": {
  "kernelspec": {
   "display_name": "base",
   "language": "python",
   "name": "python3"
  },
  "language_info": {
   "codemirror_mode": {
    "name": "ipython",
    "version": 3
   },
   "file_extension": ".py",
   "mimetype": "text/x-python",
   "name": "python",
   "nbconvert_exporter": "python",
   "pygments_lexer": "ipython3",
   "version": "3.11.5"
  }
 },
 "nbformat": 4,
 "nbformat_minor": 2
}
