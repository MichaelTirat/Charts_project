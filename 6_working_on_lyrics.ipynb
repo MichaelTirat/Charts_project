{
 "cells": [
  {
   "cell_type": "code",
   "execution_count": 23,
   "metadata": {},
   "outputs": [],
   "source": [
    "import pandas as pd \n",
    "import numpy as np \n",
    "import re \n",
    "from unidecode import unidecode \n",
    "from collections import defaultdict\n"
   ]
  },
  {
   "cell_type": "code",
   "execution_count": 22,
   "metadata": {},
   "outputs": [
    {
     "data": {
      "text/html": [
       "<div>\n",
       "<style scoped>\n",
       "    .dataframe tbody tr th:only-of-type {\n",
       "        vertical-align: middle;\n",
       "    }\n",
       "\n",
       "    .dataframe tbody tr th {\n",
       "        vertical-align: top;\n",
       "    }\n",
       "\n",
       "    .dataframe thead th {\n",
       "        text-align: right;\n",
       "    }\n",
       "</style>\n",
       "<table border=\"1\" class=\"dataframe\">\n",
       "  <thead>\n",
       "    <tr style=\"text-align: right;\">\n",
       "      <th></th>\n",
       "      <th>uri</th>\n",
       "      <th>primary_artists</th>\n",
       "      <th>featuring_artists</th>\n",
       "      <th>track_name</th>\n",
       "      <th>lyrics</th>\n",
       "      <th>langue</th>\n",
       "    </tr>\n",
       "  </thead>\n",
       "  <tbody>\n",
       "    <tr>\n",
       "      <th>0</th>\n",
       "      <td>0gLFuoDun2yzBp67btvQU3</td>\n",
       "      <td>Imagine Dragons</td>\n",
       "      <td>NaN</td>\n",
       "      <td>Wrecked</td>\n",
       "      <td>Days pass by, and my eyes, they dry, and I thi...</td>\n",
       "      <td>en</td>\n",
       "    </tr>\n",
       "    <tr>\n",
       "      <th>1</th>\n",
       "      <td>0gMywbX34eJ7W8RW7i2Qo3</td>\n",
       "      <td>Aya Nakamura</td>\n",
       "      <td>NaN</td>\n",
       "      <td>Ça fait mal</td>\n",
       "      <td>aya nakamura\\n eh\\nte as tout tente je ai tout...</td>\n",
       "      <td>fr</td>\n",
       "    </tr>\n",
       "    <tr>\n",
       "      <th>2</th>\n",
       "      <td>0gn0krlJTSSZvnMxh2ITHY</td>\n",
       "      <td>Sofiane</td>\n",
       "      <td>NaN</td>\n",
       "      <td>Mon p'tit loup</td>\n",
       "      <td>je vais te ouvrir les portes les portes de le ...</td>\n",
       "      <td>fr</td>\n",
       "    </tr>\n",
       "    <tr>\n",
       "      <th>3</th>\n",
       "      <td>0GN6DWiR9Pf2su3vJF5c0x</td>\n",
       "      <td>SCH</td>\n",
       "      <td>NaN</td>\n",
       "      <td>R.A.C.</td>\n",
       "      <td>ouais ouais\\npas deux de mon espece pas trop d...</td>\n",
       "      <td>fr</td>\n",
       "    </tr>\n",
       "    <tr>\n",
       "      <th>4</th>\n",
       "      <td>0gn93i7HJt0calph67R5Wu</td>\n",
       "      <td>HUGEL</td>\n",
       "      <td>Amber Van Day</td>\n",
       "      <td>WTF</td>\n",
       "      <td>Ba-rah, ba-ra-rah, bum-bum, ba-da\\nBa-rah, ba-...</td>\n",
       "      <td>en</td>\n",
       "    </tr>\n",
       "    <tr>\n",
       "      <th>5</th>\n",
       "      <td>0goer5e8B6SJaTV2B51k6f</td>\n",
       "      <td>Jul</td>\n",
       "      <td>NaN</td>\n",
       "      <td>La bandite</td>\n",
       "      <td>on n'aime pas les putos les moutons les matons...</td>\n",
       "      <td>fr</td>\n",
       "    </tr>\n",
       "    <tr>\n",
       "      <th>6</th>\n",
       "      <td>0gplL1WMoJ6iYaPgMCL0gX</td>\n",
       "      <td>Adele</td>\n",
       "      <td>NaN</td>\n",
       "      <td>Easy On Me</td>\n",
       "      <td>There ain't no gold in this river\\nThat I've b...</td>\n",
       "      <td>en</td>\n",
       "    </tr>\n",
       "    <tr>\n",
       "      <th>7</th>\n",
       "      <td>0gpZwVDOcUiyZ0C4rJbzWt</td>\n",
       "      <td>Jul</td>\n",
       "      <td>Fianso</td>\n",
       "      <td>Tout grailler</td>\n",
       "      <td>fuck les tres puntos fuck et ouais le epoque e...</td>\n",
       "      <td>fr</td>\n",
       "    </tr>\n",
       "    <tr>\n",
       "      <th>8</th>\n",
       "      <td>0GQ5bFTVFFKpwNPc7KwQnB</td>\n",
       "      <td>Eminem</td>\n",
       "      <td>Royce Da 5'9\",You Gon’ Learn \"</td>\n",
       "      <td>NaN</td>\n",
       "      <td>Tan tan tan tann album nan!\\nTann album nan!\\n...</td>\n",
       "      <td>ethnic</td>\n",
       "    </tr>\n",
       "    <tr>\n",
       "      <th>9</th>\n",
       "      <td>0gqN3L5zAYN3OFHUB1g6QO</td>\n",
       "      <td>Luv Resval</td>\n",
       "      <td>NaN</td>\n",
       "      <td>MPC, Part II</td>\n",
       "      <td>lahlata lahlata\\nyeah yeah yeah yeah\\naa\\ncees...</td>\n",
       "      <td>fr</td>\n",
       "    </tr>\n",
       "  </tbody>\n",
       "</table>\n",
       "</div>"
      ],
      "text/plain": [
       "                      uri  primary_artists                featuring_artists  \\\n",
       "0  0gLFuoDun2yzBp67btvQU3  Imagine Dragons                              NaN   \n",
       "1  0gMywbX34eJ7W8RW7i2Qo3     Aya Nakamura                              NaN   \n",
       "2  0gn0krlJTSSZvnMxh2ITHY          Sofiane                              NaN   \n",
       "3  0GN6DWiR9Pf2su3vJF5c0x              SCH                              NaN   \n",
       "4  0gn93i7HJt0calph67R5Wu            HUGEL                    Amber Van Day   \n",
       "5  0goer5e8B6SJaTV2B51k6f              Jul                              NaN   \n",
       "6  0gplL1WMoJ6iYaPgMCL0gX            Adele                              NaN   \n",
       "7  0gpZwVDOcUiyZ0C4rJbzWt              Jul                           Fianso   \n",
       "8  0GQ5bFTVFFKpwNPc7KwQnB           Eminem   Royce Da 5'9\",You Gon’ Learn \"   \n",
       "9  0gqN3L5zAYN3OFHUB1g6QO       Luv Resval                              NaN   \n",
       "\n",
       "       track_name                                             lyrics  langue  \n",
       "0         Wrecked  Days pass by, and my eyes, they dry, and I thi...      en  \n",
       "1     Ça fait mal  aya nakamura\\n eh\\nte as tout tente je ai tout...      fr  \n",
       "2  Mon p'tit loup  je vais te ouvrir les portes les portes de le ...      fr  \n",
       "3          R.A.C.  ouais ouais\\npas deux de mon espece pas trop d...      fr  \n",
       "4            WTF   Ba-rah, ba-ra-rah, bum-bum, ba-da\\nBa-rah, ba-...      en  \n",
       "5      La bandite  on n'aime pas les putos les moutons les matons...      fr  \n",
       "6      Easy On Me  There ain't no gold in this river\\nThat I've b...      en  \n",
       "7   Tout grailler  fuck les tres puntos fuck et ouais le epoque e...      fr  \n",
       "8             NaN  Tan tan tan tann album nan!\\nTann album nan!\\n...  ethnic  \n",
       "9   MPC, Part II   lahlata lahlata\\nyeah yeah yeah yeah\\naa\\ncees...      fr  "
      ]
     },
     "execution_count": 22,
     "metadata": {},
     "output_type": "execute_result"
    }
   ],
   "source": [
    "\n",
    "df = pd.read_csv(r\"/Users/michaeltirat/PycharmProjects/Charts_project/datasets/Lyrics_8842_on_process.csv\", usecols=['uri','primary_artists','featuring_artists','track_name','lyrics','langue'])\n",
    "df.head(10)"
   ]
  },
  {
   "cell_type": "code",
   "execution_count": 20,
   "metadata": {},
   "outputs": [],
   "source": [
    "# df.to_csv(\"datasets/Lyrics_8842_on_process.csv\", index = False, encoding=\"UTF-8\")"
   ]
  },
  {
   "cell_type": "markdown",
   "metadata": {},
   "source": [
    "# functions to count letters, words, and occurrence of unique words :"
   ]
  },
  {
   "cell_type": "markdown",
   "metadata": {},
   "source": [
    "* count sentences :"
   ]
  },
  {
   "cell_type": "code",
   "execution_count": 48,
   "metadata": {},
   "outputs": [
    {
     "name": "stdout",
     "output_type": "stream",
     "text": [
      "je vais te ouvrir les portes les portes de le equipe!\n",
      "frerot si ?te assumes te (inquiete) pas pour le oseille\n",
      "on a perdu une tonne on va se refaire vite,\n",
      "une sortie       du veneze  deux contacts a marseille\n",
      "\n",
      "une sortie du veneze  deux contacts a marseille\n"
     ]
    }
   ],
   "source": [
    "text_test = \"\"\"je vais te ouvrir les portes les portes de le equipe!\n",
    "frerot si ?te assumes te (inquiete) pas pour le oseille\n",
    "on a perdu une tonne on va se refaire vite,\n",
    "une sortie       du veneze  deux contacts a marseille\n",
    "\n",
    "une sortie du veneze  deux contacts a marseille\"\"\"\n",
    "print(text_test)"
   ]
  },
  {
   "cell_type": "markdown",
   "metadata": {},
   "source": [
    "* clean punctuations <span style=\"color: red;\">(code working)</span>"
   ]
  },
  {
   "cell_type": "code",
   "execution_count": 56,
   "metadata": {},
   "outputs": [
    {
     "data": {
      "text/plain": [
       "'je vais te ouvrir les portes les portes de le equipe\\nfrerot si te assumes te inquiete pas pour le oseille\\non a perdu une tonne on va se refaire vite\\nune sortie du veneze deux contacts a marseille\\nune sortie du veneze deux contacts a marseille'"
      ]
     },
     "execution_count": 56,
     "metadata": {},
     "output_type": "execute_result"
    }
   ],
   "source": [
    "def clean_punctuation(text):\n",
    "    text_without_punctuation = re.sub(r'[^\\w\\s]', ' ', text)\n",
    "    splited = text_without_punctuation.splitlines()\n",
    "\n",
    "    clean_sentences =[]\n",
    "    for sentences in splited:\n",
    "        # remove doble or triple blankspaces\n",
    "        words = sentences.split()\n",
    "        return_words = ' '.join(words)\n",
    "        if return_words == '' or return_words.isspace():\n",
    "            pass\n",
    "        else :\n",
    "            clean_sentences.append(return_words)\n",
    "    # return clean text with \\n\n",
    "    return \"\\n\".join(clean_sentences)\n",
    "\n",
    "clean_punctuation(text_test)"
   ]
  },
  {
   "cell_type": "markdown",
   "metadata": {},
   "source": [
    "* count sentences"
   ]
  },
  {
   "cell_type": "code",
   "execution_count": 35,
   "metadata": {},
   "outputs": [
    {
     "data": {
      "text/plain": [
       "1"
      ]
     },
     "execution_count": 35,
     "metadata": {},
     "output_type": "execute_result"
    }
   ],
   "source": [
    "def count_sentences(text):\n",
    "    splited = clean_punctuation(text).splitlines()\n",
    "    return len(splited)\n",
    "\n",
    "count_sentences(text_test)"
   ]
  },
  {
   "cell_type": "markdown",
   "metadata": {},
   "source": [
    "* count words"
   ]
  },
  {
   "cell_type": "code",
   "execution_count": 30,
   "metadata": {},
   "outputs": [
    {
     "data": {
      "text/plain": [
       "'je vais te ouvrir les portes les portes de le equipe\\nfrerot si te assumes te inquiete pas pour le oseille\\non a perdu une tonne on va se refaire vite\\nune sortie du veneze  deux contacts a marseille\\n'"
      ]
     },
     "execution_count": 30,
     "metadata": {},
     "output_type": "execute_result"
    }
   ],
   "source": [
    "def count_words(text):\n",
    "    list_words = \n",
    "    return text\n",
    "\n",
    "count_words(text_test)"
   ]
  },
  {
   "cell_type": "code",
   "execution_count": null,
   "metadata": {},
   "outputs": [],
   "source": []
  }
 ],
 "metadata": {
  "kernelspec": {
   "display_name": "Python 3",
   "language": "python",
   "name": "python3"
  },
  "language_info": {
   "codemirror_mode": {
    "name": "ipython",
    "version": 3
   },
   "file_extension": ".py",
   "mimetype": "text/x-python",
   "name": "python",
   "nbconvert_exporter": "python",
   "pygments_lexer": "ipython3",
   "version": "3.9.6"
  }
 },
 "nbformat": 4,
 "nbformat_minor": 2
}
